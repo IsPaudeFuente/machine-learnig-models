{
 "cells": [
  {
   "cell_type": "markdown",
   "metadata": {},
   "source": [
    "\n",
    "# **FEDERATED LEARNING**\n",
    "---"
   ]
  },
  {
   "cell_type": "markdown",
   "metadata": {},
   "source": [
    "En esta sección se explicarán una breve introducción, notas, etc. de Federated Learning. Se comenzará definiendo qué es y como se puede utilizar (casos de uso).\n",
    "\n",
    "Los primeros enlaces de interés para este documento son los siguientes:\n",
    "\n",
    "- Federated Learning Wiki, Wikipedia -> [here](https://en.wikipedia.org/wiki/Federated_learning)\n",
    "- What is Federated Learning? Blog, IBM -> [here](https://research.ibm.com/blog/what-is-federated-learning)"
   ]
  },
  {
   "cell_type": "code",
   "execution_count": null,
   "metadata": {},
   "outputs": [],
   "source": []
  }
 ],
 "metadata": {
  "language_info": {
   "name": "python"
  }
 },
 "nbformat": 4,
 "nbformat_minor": 2
}
